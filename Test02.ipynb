{
  "nbformat": 4,
  "nbformat_minor": 0,
  "metadata": {
    "colab": {
      "provenance": [],
      "authorship_tag": "ABX9TyMvZdi4vlDJ5NObLEAg/Jwy",
      "include_colab_link": true
    },
    "kernelspec": {
      "name": "python3",
      "display_name": "Python 3"
    },
    "language_info": {
      "name": "python"
    }
  },
  "cells": [
    {
      "cell_type": "markdown",
      "metadata": {
        "id": "view-in-github",
        "colab_type": "text"
      },
      "source": [
        "<a href=\"https://colab.research.google.com/github/ps-vcu/Pub_repo_01/blob/main/Test02.ipynb\" target=\"_parent\"><img src=\"https://colab.research.google.com/assets/colab-badge.svg\" alt=\"Open In Colab\"/></a>"
      ]
    },
    {
      "cell_type": "markdown",
      "source": [
        "**Testing** **features**"
      ],
      "metadata": {
        "id": "qmrXU1OOaDll"
      }
    },
    {
      "cell_type": "code",
      "execution_count": null,
      "metadata": {
        "colab": {
          "base_uri": "https://localhost:8080/"
        },
        "id": "K74ZzbZqZ81M",
        "outputId": "a794010d-408e-405d-f080-2d1927e8f82a"
      },
      "outputs": [
        {
          "output_type": "stream",
          "name": "stdout",
          "text": [
            "What is your name: Anshul\n",
            "what is your birth year: 1987\n",
            "Dear Anshul you enjoyed 37 on this earth and remaining life is only 39 years! HAVE FUUN!!!\n"
          ]
        }
      ],
      "source": [
        "import random\n",
        "name = input(\"What is your name: \",)\n",
        "birth_year = int(input (\"what is your birth year: \",))\n",
        "age = 2024 - birth_year\n",
        "bal = random.randint(1,40)\n",
        "print(f\"Dear {name} you enjoyed {age} on this earth and remaining life is only {bal} years! HAVE FUUN!!!\")"
      ]
    }
  ]
}